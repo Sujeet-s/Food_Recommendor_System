{
  "cells": [
    {
      "cell_type": "markdown",
      "metadata": {
        "id": "htey1FpQcn3X"
      },
      "source": [
        "## Setup"
      ]
    },
    {
      "cell_type": "code",
      "execution_count": null,
      "metadata": {
        "id": "NRiDLBE1l-Dw",
        "colab": {
          "base_uri": "https://localhost:8080/"
        },
        "outputId": "f036c75a-2c3d-4a70-dc51-8d2d9acdf3eb"
      },
      "outputs": [
        {
          "output_type": "stream",
          "name": "stdout",
          "text": [
            "Mounted at /content/drive\n"
          ]
        }
      ],
      "source": [
        "import os\n",
        "# give googe drive the required permission\n",
        "from google.colab import drive\n",
        "drive.mount('/content/drive')"
      ]
    },
    {
      "cell_type": "code",
      "execution_count": null,
      "metadata": {
        "colab": {
          "base_uri": "https://localhost:8080/",
          "height": 35
        },
        "outputId": "4935cc7b-ffc7-436f-a66e-dbacd7402539",
        "id": "BwzVR59Ll-Dw"
      },
      "outputs": [
        {
          "output_type": "execute_result",
          "data": {
            "text/plain": [
              "'/content/drive/MyDrive/food_recommender_assignment'"
            ],
            "application/vnd.google.colaboratory.intrinsic+json": {
              "type": "string"
            }
          },
          "metadata": {},
          "execution_count": 2
        }
      ],
      "source": [
        "\n",
        "os.chdir(\"/content/drive/MyDrive/food_recommender_assignment/\")\n",
        "os.getcwd()"
      ]
    },
    {
      "cell_type": "code",
      "execution_count": null,
      "metadata": {
        "colab": {
          "base_uri": "https://localhost:8080/",
          "height": 35
        },
        "id": "BpUqlBP89U8I",
        "outputId": "dd5fd1c3-5dad-4be5-cf58-f41c14595182"
      },
      "outputs": [
        {
          "output_type": "execute_result",
          "data": {
            "text/plain": [
              "'/content/drive/MyDrive/food_recommender_assignment/Dataset'"
            ],
            "application/vnd.google.colaboratory.intrinsic+json": {
              "type": "string"
            }
          },
          "metadata": {},
          "execution_count": 3
        }
      ],
      "source": [
        "os.chdir(\"/content/drive/MyDrive/food_recommender_assignment/Dataset/\")\n",
        "os.getcwd()"
      ]
    },
    {
      "cell_type": "code",
      "execution_count": null,
      "metadata": {
        "colab": {
          "base_uri": "https://localhost:8080/"
        },
        "id": "zFl1W65u9U2q",
        "outputId": "d301f44f-1518-4f44-ca36-31554bbe88d8"
      },
      "outputs": [
        {
          "output_type": "stream",
          "name": "stdout",
          "text": [
            "Looking in indexes: https://pypi.org/simple, https://us-python.pkg.dev/colab-wheels/public/simple/\n",
            "Collecting pyspark==3.1.2\n",
            "  Downloading pyspark-3.1.2.tar.gz (212.4 MB)\n",
            "\u001b[K     |████████████████████████████████| 212.4 MB 79 kB/s \n",
            "\u001b[?25hCollecting py4j==0.10.9\n",
            "  Downloading py4j-0.10.9-py2.py3-none-any.whl (198 kB)\n",
            "\u001b[K     |████████████████████████████████| 198 kB 24.7 MB/s \n",
            "\u001b[?25hBuilding wheels for collected packages: pyspark\n",
            "  Building wheel for pyspark (setup.py) ... \u001b[?25l\u001b[?25hdone\n",
            "  Created wheel for pyspark: filename=pyspark-3.1.2-py2.py3-none-any.whl size=212880769 sha256=76171ed80cb4dcb78f3cca2fa9c154692a143514f5309b72cb326dd2f7bb549a\n",
            "  Stored in directory: /root/.cache/pip/wheels/a5/0a/c1/9561f6fecb759579a7d863dcd846daaa95f598744e71b02c77\n",
            "Successfully built pyspark\n",
            "Installing collected packages: py4j, pyspark\n",
            "Successfully installed py4j-0.10.9 pyspark-3.1.2\n"
          ]
        }
      ],
      "source": [
        "try:\n",
        "  import pyspark \n",
        "except:\n",
        "  !pip install pyspark==3.1.2\n",
        "  import pyspark"
      ]
    },
    {
      "cell_type": "code",
      "source": [
        "from pyspark.sql import SparkSession\n",
        "from pyspark.context import SparkContext"
      ],
      "metadata": {
        "id": "oBvA-zmx2_vE"
      },
      "execution_count": null,
      "outputs": []
    },
    {
      "cell_type": "code",
      "execution_count": null,
      "metadata": {
        "id": "H07v5FBc9fW9"
      },
      "outputs": [],
      "source": [
        "spark = SparkSession.builder.master(\"local\").config('spark.ui.port', '4050').getOrCreate()"
      ]
    },
    {
      "cell_type": "code",
      "execution_count": null,
      "metadata": {
        "colab": {
          "base_uri": "https://localhost:8080/",
          "height": 219
        },
        "id": "eqeHc0B_9nOG",
        "outputId": "236f38b6-815b-42c9-f1ff-df4b810842b5"
      },
      "outputs": [
        {
          "output_type": "execute_result",
          "data": {
            "text/plain": [
              "<pyspark.sql.session.SparkSession at 0x7f23806e13d0>"
            ],
            "text/html": [
              "\n",
              "            <div>\n",
              "                <p><b>SparkSession - in-memory</b></p>\n",
              "                \n",
              "        <div>\n",
              "            <p><b>SparkContext</b></p>\n",
              "\n",
              "            <p><a href=\"http://519babcad8e5:4050\">Spark UI</a></p>\n",
              "\n",
              "            <dl>\n",
              "              <dt>Version</dt>\n",
              "                <dd><code>v3.1.2</code></dd>\n",
              "              <dt>Master</dt>\n",
              "                <dd><code>local</code></dd>\n",
              "              <dt>AppName</dt>\n",
              "                <dd><code>pyspark-shell</code></dd>\n",
              "            </dl>\n",
              "        </div>\n",
              "        \n",
              "            </div>\n",
              "        "
            ]
          },
          "metadata": {},
          "execution_count": 7
        }
      ],
      "source": [
        "spark"
      ]
    },
    {
      "cell_type": "markdown",
      "metadata": {
        "id": "OuQIGExwctpy"
      },
      "source": [
        "## Imports"
      ]
    },
    {
      "cell_type": "code",
      "execution_count": null,
      "metadata": {
        "id": "QTo-V_Tt9eoN"
      },
      "outputs": [],
      "source": [
        "import pandas as pd \n",
        "import numpy as np\n",
        "\n",
        "from pyspark.sql import functions as F\n",
        "# Import for typecasting columns\n",
        "from pyspark.sql.types import IntegerType,BooleanType,DateType,FloatType,StringType, ArrayType"
      ]
    },
    {
      "cell_type": "markdown",
      "metadata": {
        "id": "lJbriFKH9AwM"
      },
      "source": [
        "## Read the data "
      ]
    },
    {
      "cell_type": "code",
      "execution_count": null,
      "metadata": {
        "id": "6fBd-ymZ85_e"
      },
      "outputs": [],
      "source": [
        "raw_ratings_df = (spark.read.csv(\"raw_ratings_small.csv\", \n",
        "                                 header=True, \n",
        "                                 inferSchema= True))"
      ]
    },
    {
      "cell_type": "code",
      "execution_count": null,
      "metadata": {
        "id": "dXuL1Sq09Akr"
      },
      "outputs": [],
      "source": [
        "raw_recipes_df = spark.read.csv(\"raw_recipies_small.csv\", \n",
        "                                header=True, \n",
        "                                inferSchema=True)"
      ]
    },
    {
      "cell_type": "code",
      "source": [],
      "metadata": {
        "id": "Mkaj1BabtAg1"
      },
      "execution_count": null,
      "outputs": []
    },
    {
      "cell_type": "markdown",
      "metadata": {
        "id": "lILWFlP-9tKr"
      },
      "source": [
        "#### Decide a split date based on the ratings dataframe. "
      ]
    },
    {
      "cell_type": "code",
      "execution_count": null,
      "metadata": {
        "id": "COU5Qg1A-CT7"
      },
      "outputs": [],
      "source": [
        "# Finding the number of data points in the interaction dataset. \n",
        "num_review_int = raw_ratings_df.count()"
      ]
    },
    {
      "cell_type": "code",
      "source": [
        "num_review_int"
      ],
      "metadata": {
        "colab": {
          "base_uri": "https://localhost:8080/"
        },
        "id": "y9WxbHD3y3nv",
        "outputId": "685ac5c2-cddc-4dbb-e8fd-931fe90b29ef"
      },
      "execution_count": null,
      "outputs": [
        {
          "output_type": "execute_result",
          "data": {
            "text/plain": [
              "93357"
            ]
          },
          "metadata": {},
          "execution_count": 13
        }
      ]
    },
    {
      "cell_type": "markdown",
      "metadata": {
        "id": "Ea0ZeHC0JXjy"
      },
      "source": [
        "Divide the data into train and test based on the 80 - 20 split using the approach discussed."
      ]
    },
    {
      "cell_type": "code",
      "execution_count": null,
      "metadata": {
        "id": "gz8RpPOo-CSO"
      },
      "outputs": [],
      "source": [
        "test_num_reviews_int = round(num_review_int *0.2)"
      ]
    },
    {
      "cell_type": "code",
      "execution_count": null,
      "metadata": {
        "id": "1uBP9W-t-CPm"
      },
      "outputs": [],
      "source": [
        "# Sorting the interactions dataset in descending order of review date. \n",
        "# Extracting ```test_num_reviews_int``` most recent reviews. \n",
        "\n",
        "temp_ratings_df = (raw_ratings_df.sort(\"review_date\", ascending=False)\n",
        "                                 .limit(test_num_reviews_int)\n",
        "                  )"
      ]
    },
    {
      "cell_type": "code",
      "execution_count": null,
      "metadata": {
        "colab": {
          "base_uri": "https://localhost:8080/",
          "height": 35
        },
        "id": "vC5khu2X-CIj",
        "outputId": "07d028e7-5a03-4fb2-d18e-c2786b03e192"
      },
      "outputs": [
        {
          "output_type": "execute_result",
          "data": {
            "text/plain": [
              "'2011-07-17'"
            ],
            "application/vnd.google.colaboratory.intrinsic+json": {
              "type": "string"
            }
          },
          "metadata": {},
          "execution_count": 17
        }
      ],
      "source": [
        "temp_ratings_df.collect()[-1][4]"
      ]
    },
    {
      "cell_type": "code",
      "source": [
        "temp_ratings_df.count()"
      ],
      "metadata": {
        "colab": {
          "base_uri": "https://localhost:8080/"
        },
        "id": "f-C3YjNw1sg8",
        "outputId": "e1d1efcb-2da7-4599-d994-898c0d6e58ba"
      },
      "execution_count": null,
      "outputs": [
        {
          "output_type": "execute_result",
          "data": {
            "text/plain": [
              "18671"
            ]
          },
          "metadata": {},
          "execution_count": 18
        }
      ]
    },
    {
      "cell_type": "markdown",
      "metadata": {
        "id": "ZTKyBLjFJTmr"
      },
      "source": [
        "Split the data into two parts before and after 2011-07-17. \n",
        "\n",
        "- All reviews in the ratings data after 2011-07-17 will not exsist in the training set. \n",
        "- For all future predictions the date will be set at 2011-07-18.   "
      ]
    },
    {
      "cell_type": "code",
      "execution_count": null,
      "metadata": {
        "id": "cCuNwQMEhBPi"
      },
      "outputs": [],
      "source": [
        "# Join raw_recipes and raw_ratings\n",
        "# Using recipe_id as the key to join these dataframes \n",
        "# The resulting dataframe must have all rows from the raw_ratings dataframe. \n",
        "\n",
        "interaction_level_df = raw_ratings_df.join(raw_recipes_df,raw_ratings_df.recipe_id == raw_recipes_df.id,'right' )"
      ]
    },
    {
      "cell_type": "code",
      "source": [
        "interaction_level_df.printSchema()"
      ],
      "metadata": {
        "colab": {
          "base_uri": "https://localhost:8080/"
        },
        "id": "DMk9AYXV0CLm",
        "outputId": "d9d92133-d651-4d5a-efa3-ff88f98a2a1a"
      },
      "execution_count": null,
      "outputs": [
        {
          "output_type": "stream",
          "name": "stdout",
          "text": [
            "root\n",
            " |-- user_id: integer (nullable = true)\n",
            " |-- recipe_id: integer (nullable = true)\n",
            " |-- rating: integer (nullable = true)\n",
            " |-- review: string (nullable = true)\n",
            " |-- review_date: string (nullable = true)\n",
            " |-- name: string (nullable = true)\n",
            " |-- id: integer (nullable = true)\n",
            " |-- minutes: integer (nullable = true)\n",
            " |-- contributor_id: integer (nullable = true)\n",
            " |-- submitted: string (nullable = true)\n",
            " |-- tags: string (nullable = true)\n",
            " |-- nutrition: string (nullable = true)\n",
            " |-- n_steps: integer (nullable = true)\n",
            " |-- steps: string (nullable = true)\n",
            " |-- description: string (nullable = true)\n",
            " |-- ingredients: string (nullable = true)\n",
            " |-- n_ingredients: integer (nullable = true)\n",
            " |-- year_of_review: integer (nullable = true)\n",
            "\n"
          ]
        }
      ]
    },
    {
      "cell_type": "code",
      "source": [
        "interaction_level_df.show(5)"
      ],
      "metadata": {
        "colab": {
          "base_uri": "https://localhost:8080/"
        },
        "id": "USix5Fmi0Rdg",
        "outputId": "cb6bd8ab-1520-42f1-b751-92dcb08c2de2"
      },
      "execution_count": null,
      "outputs": [
        {
          "output_type": "stream",
          "name": "stdout",
          "text": [
            "+-------+---------+------+--------------------+-----------+--------------------+-----+-------+--------------+----------+--------------------+--------------------+-------+--------------------+--------------------+--------------------+-------------+--------------+\n",
            "|user_id|recipe_id|rating|              review|review_date|                name|   id|minutes|contributor_id| submitted|                tags|           nutrition|n_steps|               steps|         description|         ingredients|n_ingredients|year_of_review|\n",
            "+-------+---------+------+--------------------+-----------+--------------------+-----+-------+--------------+----------+--------------------+--------------------+-------+--------------------+--------------------+--------------------+-------------+--------------+\n",
            "| 152552|    29601|     5|Excellent. It was...| 2004-08-20|zippy cold spicy ...|29601|    270|         30367|2002-05-29|['time-to-make', ...|[277.2, 15.0, 13....|     12|['in a heavy 10-i...|shrimp drink in t...|['oil', 'medium s...|           11|          2002|\n",
            "|  16334|    33602|     5|So easy my husban...| 2002-12-20|zucchini with oni...|33602|     50|         23302|2002-07-08|['60-minutes-or-l...|[84.4, 5.0, 28.0,...|      5|['melt the butter...|                null|['unsalted butter...|            6|          2002|\n",
            "|  31635|    33602|     4|Absolutely delici...| 2005-06-03|zucchini with oni...|33602|     50|         23302|2002-07-08|['60-minutes-or-l...|[84.4, 5.0, 28.0,...|      5|['melt the butter...|                null|['unsalted butter...|            6|          2002|\n",
            "|  35526|    33602|     5|We really liked t...| 2005-11-09|zucchini with oni...|33602|     50|         23302|2002-07-08|['60-minutes-or-l...|[84.4, 5.0, 28.0,...|      5|['melt the butter...|                null|['unsalted butter...|            6|          2002|\n",
            "|  48107|    35912|     4|The quiche was ve...| 2002-12-24|cheesy bacon   sa...|35912|     75|         45698|2002-08-02|['bacon', 'weekni...|[4123.9, 503.0, 2...|     13|['preheat oven to...|neat breakfast (o...|['breakfast sausa...|            9|          2002|\n",
            "+-------+---------+------+--------------------+-----------+--------------------+-----+-------+--------------+----------+--------------------+--------------------+-------+--------------------+--------------------+--------------------+-------------+--------------+\n",
            "only showing top 5 rows\n",
            "\n"
          ]
        }
      ]
    },
    {
      "cell_type": "code",
      "source": [
        "interaction_level_df = (interaction_level_df\n",
        "                        .withColumn('review_date', F.to_date(interaction_level_df['review_date']) \n",
        "                                   ))\n",
        "interaction_level_df = (interaction_level_df\n",
        "                        .withColumn('submitted', F.to_date(interaction_level_df['submitted']) \n",
        "                                   ))"
      ],
      "metadata": {
        "id": "--76Yfwd0ylk"
      },
      "execution_count": null,
      "outputs": []
    },
    {
      "cell_type": "code",
      "source": [
        "interaction_level_df.filter( F.col('review_date') >= F.to_date(F.lit('2011-07-17'))).count()"
      ],
      "metadata": {
        "colab": {
          "base_uri": "https://localhost:8080/"
        },
        "id": "hqUwO2Nb04h3",
        "outputId": "c1c469e3-822c-4b9f-fe52-39d38d15c763"
      },
      "execution_count": null,
      "outputs": [
        {
          "output_type": "execute_result",
          "data": {
            "text/plain": [
              "18684"
            ]
          },
          "metadata": {},
          "execution_count": 24
        }
      ]
    },
    {
      "cell_type": "code",
      "source": [
        "len(interaction_level_df.columns)"
      ],
      "metadata": {
        "colab": {
          "base_uri": "https://localhost:8080/"
        },
        "id": "hE9q2DSy2MuB",
        "outputId": "1589012e-cfbd-4eb6-8a9b-382c9f754f97"
      },
      "execution_count": null,
      "outputs": [
        {
          "output_type": "execute_result",
          "data": {
            "text/plain": [
              "18"
            ]
          },
          "metadata": {},
          "execution_count": 25
        }
      ]
    },
    {
      "cell_type": "code",
      "source": [
        "interaction_level_df.filter( \"review_date >= '2011-07-17'\").orderBy(F.to_date(F.col('review_date')).asc()).show(5)"
      ],
      "metadata": {
        "colab": {
          "base_uri": "https://localhost:8080/"
        },
        "id": "bfHK-36X2Wy8",
        "outputId": "8981de2d-b466-444a-f7f8-8924b59778c7"
      },
      "execution_count": null,
      "outputs": [
        {
          "output_type": "stream",
          "name": "stdout",
          "text": [
            "+-------+---------+------+--------------------+-----------+--------------------+------+-------+--------------+----------+--------------------+--------------------+-------+--------------------+--------------------+--------------------+-------------+--------------+\n",
            "|user_id|recipe_id|rating|              review|review_date|                name|    id|minutes|contributor_id| submitted|                tags|           nutrition|n_steps|               steps|         description|         ingredients|n_ingredients|year_of_review|\n",
            "+-------+---------+------+--------------------+-----------+--------------------+------+-------+--------------+----------+--------------------+--------------------+-------+--------------------+--------------------+--------------------+-------------+--------------+\n",
            "| 407625|   220008|     4|Tasty and easy!  ...| 2011-07-17|rhubarb strawberr...|220008|     40|        169430|2007-04-01|['60-minutes-or-l...|[364.7, 26.0, 122...|     11|['put oven rack i...|this no-hassle mi...|['water', 'cornst...|           12|          2007|\n",
            "| 424680|   221697|     5|Made half a recip...| 2011-07-17|better for you de...|221697|     40|        465056|2007-04-09|['60-minutes-or-l...|[54.9, 4.0, 2.0, ...|     12|['boil eggs , coo...|this recipe was d...|['egg whites', 'e...|            9|          2007|\n",
            "| 383346|   220008|     5|This reminds me m...| 2011-07-17|rhubarb strawberr...|220008|     40|        169430|2007-04-01|['60-minutes-or-l...|[364.7, 26.0, 122...|     11|['put oven rack i...|this no-hassle mi...|['water', 'cornst...|           12|          2007|\n",
            "|1959387|   295469|     5|This was amazing....| 2011-07-17|   skip and go naked|295469|      5|        803511|2008-03-31|['15-minutes-or-l...|[284.8, 1.0, 180....|      3|['fill a blender ...|this recipe comes...|['beer', 'frozen ...|            3|          2008|\n",
            "| 424680|   435989|     5|Although the dash...| 2011-07-17|deluxe macaroni  ...|435989|     45|       1226398|2010-08-26|['weeknight', '60...|[331.6, 28.0, 13....|      5|['in a large mixi...|this is yet anoth...|['small curd cott...|            8|          2010|\n",
            "+-------+---------+------+--------------------+-----------+--------------------+------+-------+--------------+----------+--------------------+--------------------+-------+--------------------+--------------------+--------------------+-------------+--------------+\n",
            "only showing top 5 rows\n",
            "\n"
          ]
        }
      ]
    },
    {
      "cell_type": "code",
      "execution_count": null,
      "metadata": {
        "id": "orclWiSCKkw7"
      },
      "outputs": [],
      "source": [
        "# Using the filter command to separate the datasets. \n",
        "# All interactions which were rated BEFORE '2011-07-17' will be train data. \n",
        "\n",
        "train_interaction_level_df  = (interaction_level_df.filter(  \"review_date <'2011-07-17'\"  ))"
      ]
    },
    {
      "cell_type": "code",
      "execution_count": null,
      "metadata": {
        "id": "sdyQsB2tiE04"
      },
      "outputs": [],
      "source": [
        "# Using the filter command to separate the datasets. \n",
        "# All interactions which were rated AFTER '2011-07-17' will be train data. \n",
        "\n",
        "test_interaction_level_all_recipies_df  = (interaction_level_df.filter(   \"review_date >= '2011-07-17'\"))"
      ]
    },
    {
      "cell_type": "code",
      "execution_count": null,
      "metadata": {
        "id": "hPnT-UZ5IwDa"
      },
      "outputs": [],
      "source": [
        "# creating data files for modeling \n",
        "\n",
        "(train_interaction_level_df.coalesce(1)\n",
        "                           .write.mode('overwrite')\n",
        "                           .parquet('train_interaction_level_df.parquet'))  # change the file name and file path\n",
        "\n",
        "(test_interaction_level_all_recipies_df.coalesce(1)\n",
        "                                       .write.mode('overwrite')\n",
        "                                       .parquet('test_interaction_level_df.parquet'))  # change the file name and file path"
      ]
    },
    {
      "cell_type": "code",
      "source": [
        "os.getcwd()"
      ],
      "metadata": {
        "id": "iWO-isFp4Pka",
        "colab": {
          "base_uri": "https://localhost:8080/",
          "height": 35
        },
        "outputId": "0055a762-6d49-49a4-b301-1c05566ce1f1"
      },
      "execution_count": null,
      "outputs": [
        {
          "output_type": "execute_result",
          "data": {
            "text/plain": [
              "'/content/drive/MyDrive/food_recommender_assignment/Dataset'"
            ],
            "application/vnd.google.colaboratory.intrinsic+json": {
              "type": "string"
            }
          },
          "metadata": {},
          "execution_count": 31
        }
      ]
    },
    {
      "cell_type": "code",
      "source": [],
      "metadata": {
        "id": "YY0t8UtpUJxe"
      },
      "execution_count": null,
      "outputs": []
    }
  ],
  "metadata": {
    "colab": {
      "collapsed_sections": [],
      "provenance": []
    },
    "kernelspec": {
      "display_name": "Python 3",
      "name": "python3"
    },
    "language_info": {
      "name": "python"
    }
  },
  "nbformat": 4,
  "nbformat_minor": 0
}